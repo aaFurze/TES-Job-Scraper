{
 "cells": [
  {
   "cell_type": "code",
   "execution_count": 1,
   "metadata": {},
   "outputs": [],
   "source": [
    "import requests\n",
    "import json\n",
    "import pandas as pd\n",
    "import datetime\n",
    "import os"
   ]
  },
  {
   "cell_type": "code",
   "execution_count": 2,
   "metadata": {},
   "outputs": [],
   "source": [
    "# NOTE: Make sure to include a & symbol at the end of the url for it to retrive the correct results properly.\n",
    "api_link_specific = \"\"\"\n",
    "https://www.tes.com/api/jobs/browser/search-v3?siteCountry=gb&&locations=United%20Kingdom%3AEngland%3AYorkshire%20and%20the%20Humber%3ALeeds&keywords=&workplaces=Secondary&positions=Teaching%20and%20Lecturing&\n",
    "\"\"\""
   ]
  },
  {
   "cell_type": "code",
   "execution_count": 3,
   "metadata": {},
   "outputs": [],
   "source": [
    "request  =requests.get(api_link_specific, headers={\"referer\": \"https://www.tes.com/jobs/browse/\"})"
   ]
  },
  {
   "cell_type": "code",
   "execution_count": 4,
   "metadata": {},
   "outputs": [],
   "source": [
    "if request.status_code == 200:\n",
    "    raw_data = json.loads(request.text)\n",
    "else:\n",
    "    raise requests.HTTPError(f\"Could not find webpage (status code: {request.status_code}\")"
   ]
  },
  {
   "cell_type": "code",
   "execution_count": 5,
   "metadata": {},
   "outputs": [],
   "source": [
    "raw_jobs_data = raw_data[\"searchResult\"][\"jobs\"][\"items\"]"
   ]
  },
  {
   "cell_type": "code",
   "execution_count": 15,
   "metadata": {},
   "outputs": [
    {
     "data": {
      "text/plain": [
       "dict_keys(['searchResult', 'savedJobs', 'searchDetails', 'selectedFacets', 'savedSearches', 'baseQS'])"
      ]
     },
     "execution_count": 15,
     "metadata": {},
     "output_type": "execute_result"
    }
   ],
   "source": [
    "raw_data.keys()\n",
    "#raw_data[\"searchResult\"]\n",
    "#raw_data[\"searchResult\"][\"jobs\"][\"metadata\"][\"pagination\"][\"totalpages\"]"
   ]
  },
  {
   "cell_type": "code",
   "execution_count": 7,
   "metadata": {},
   "outputs": [
    {
     "name": "stdout",
     "output_type": "stream",
     "text": [
      "dict_keys(['lastModified', 'advert', 'title', 'package', 'employerOnlineId', 'attachments', 'hasAttachments', 'deleted', 'shortDescription', 'map', 'employerName', 'jobId', 'jobStats', 'modulesV2', 'cardStyle', 'cdnBase', 'flag', 'jobPageCanonicalUrl', 'displayTitle', 'displayJobStartDate', 'displaySalary', 'salary', 'displayLocation', 'displayContractTerms', 'application', 'quickApplication', 'employer'])\n"
     ]
    }
   ],
   "source": [
    "print(raw_jobs_data[0].keys())"
   ]
  },
  {
   "cell_type": "code",
   "execution_count": 8,
   "metadata": {},
   "outputs": [
    {
     "name": "stdout",
     "output_type": "stream",
     "text": [
      "Inclusion Learning Support Assistant\n",
      "Mount St Mary's Catholic High School\n",
      "Leeds\n",
      "Scale A1/B1 - £18,328 to £19,698 per annum pro rata (pro rata salary £11,903 to £12,792) starting salary dependent upon experience\n",
      "https://www.tes.com/jobs/vacancy/inclusion-learning-support-assistant-leeds-1712637\n",
      "As soon as possible\n",
      "2022-11-02\n",
      "Temporary\n"
     ]
    },
    {
     "data": {
      "text/plain": [
       "'\\nfor key in list(first_item.keys()):\\n    print(f\"{key}: {first_item[key]}\")\\n'"
      ]
     },
     "execution_count": 8,
     "metadata": {},
     "output_type": "execute_result"
    }
   ],
   "source": [
    "first_item = raw_jobs_data[2]\n",
    "\n",
    "print(first_item[\"title\"])\n",
    "print(first_item[\"employerName\"])\n",
    "print(first_item[\"displayLocation\"])\n",
    "print(first_item[\"displaySalary\"]) # This requires more parsing (if exists, get min, max)\n",
    "print(first_item[\"jobPageCanonicalUrl\"])\n",
    "print(first_item[\"displayJobStartDate\"])\n",
    "print(first_item[\"advert\"][\"displayEndDateShort\"]) # Perhaps convert to datetime format before adding to df\n",
    "print(first_item[\"displayContractTerms\"])\n",
    "\n",
    "\"\"\"\n",
    "for key in list(first_item.keys()):\n",
    "    print(f\"{key}: {first_item[key]}\")\n",
    "\"\"\""
   ]
  },
  {
   "cell_type": "code",
   "execution_count": 9,
   "metadata": {},
   "outputs": [
    {
     "name": "stdout",
     "output_type": "stream",
     "text": [
      "2022-11-09\n",
      "2022-11-03\n",
      "2022-11-02\n",
      "2022-11-02\n",
      "2022-11-07\n",
      "2022-11-07\n",
      "2022-11-07\n",
      "2022-11-01\n",
      "2022-10-30\n",
      "2022-11-07\n",
      "2022-10-30\n",
      "2022-10-31\n",
      "2022-11-07\n",
      "2022-11-30\n",
      "2022-11-11\n",
      "2022-11-18\n",
      "2022-11-18\n",
      "2022-11-14\n",
      "2022-11-04\n",
      "2022-11-01\n"
     ]
    }
   ],
   "source": [
    "\n",
    "\n",
    "for job in raw_jobs_data:\n",
    "    print(job[\"advert\"][\"displayEndDateShort\"])"
   ]
  },
  {
   "cell_type": "code",
   "execution_count": 10,
   "metadata": {},
   "outputs": [],
   "source": [
    "column_names = [\"job_id\", \"job_title\", \"tenure\", \"start_date\", \"application_deadline\", \"employer_name\", \"location\", \"salary\", \"url\"]"
   ]
  },
  {
   "cell_type": "code",
   "execution_count": 11,
   "metadata": {},
   "outputs": [],
   "source": [
    "df = pd.DataFrame(columns=column_names)"
   ]
  },
  {
   "cell_type": "code",
   "execution_count": 12,
   "metadata": {},
   "outputs": [],
   "source": [
    "for job in raw_jobs_data:\n",
    "    row = [job[\"jobId\"], job[\"title\"], job[\"displayContractTerms\"], job[\"displayJobStartDate\"], \n",
    "    job[\"advert\"][\"displayEndDateShort\"], job[\"employerName\"], job[\"displayLocation\"], job[\"displaySalary\"], job[\"jobPageCanonicalUrl\"]]\n",
    "\n",
    "    # Inserts row to the end of the dataframe\n",
    "    df.loc[len(df)] = row"
   ]
  },
  {
   "cell_type": "code",
   "execution_count": 13,
   "metadata": {},
   "outputs": [],
   "source": [
    "time = datetime.datetime.now()\n",
    "timestamp = time.strftime(\"%Y%m%d-%H%M%S\")"
   ]
  },
  {
   "cell_type": "code",
   "execution_count": 14,
   "metadata": {},
   "outputs": [],
   "source": [
    "df.to_csv(f\"{os.path.dirname(os.getcwd())}\\\\data/job_data_{timestamp}.csv\", index=False)"
   ]
  }
 ],
 "metadata": {
  "kernelspec": {
   "display_name": "Python 3.10.6 ('.venv': venv)",
   "language": "python",
   "name": "python3"
  },
  "language_info": {
   "codemirror_mode": {
    "name": "ipython",
    "version": 3
   },
   "file_extension": ".py",
   "mimetype": "text/x-python",
   "name": "python",
   "nbconvert_exporter": "python",
   "pygments_lexer": "ipython3",
   "version": "3.10.6"
  },
  "orig_nbformat": 4,
  "vscode": {
   "interpreter": {
    "hash": "a7921ae6b0b736827b10607b2a989587a144abf994c1da0f36f6611cdf94659f"
   }
  }
 },
 "nbformat": 4,
 "nbformat_minor": 2
}
